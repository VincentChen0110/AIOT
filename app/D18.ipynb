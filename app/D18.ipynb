{
 "cells": [
  {
   "cell_type": "code",
   "execution_count": 1,
   "metadata": {},
   "outputs": [],
   "source": [
    "from flask import Flask ,request, jsonify\n",
    "from flask_pymongo import PyMongo\n",
    "from bson.objectid import ObjectId"
   ]
  },
  {
   "cell_type": "code",
   "execution_count": 2,
   "metadata": {},
   "outputs": [],
   "source": [
    "app = Flask(__name__)\n",
    "app.config['MONGO_URI'] = 'mongodb://localhost:27017/test'\n",
    "mongo = PyMongo(app)"
   ]
  },
  {
   "cell_type": "code",
   "execution_count": 3,
   "metadata": {},
   "outputs": [],
   "source": [
    "@app.route('/members')\n",
    "@app.route('/member/<id>', methods = ['GET'])\n",
    "def get_member(id=None):\n",
    "    \n",
    "    if id is None:\n",
    "        members = mongo.db.member.find({})\n",
    "        result = [] \n",
    "        \n",
    "        for member in members:\n",
    "            member['_id'] = str(member['_id']) \n",
    "            result.append(member)\n",
    "        return jsonify(result) \n",
    "    else:\n",
    "        result = mongo.db.member.find_one({'_id': ObjectId(id)})\n",
    "        if result is not None:\n",
    "            result['_id'] = str(result['_id']) \n",
    "        \n",
    "        return jsonify(result) "
   ]
  },
  {
   "cell_type": "code",
   "execution_count": 4,
   "metadata": {},
   "outputs": [],
   "source": [
    "@app.route('/members', methods = ['POST'])\n",
    "def add_member(id):\n",
    "    # retrieve information from form\n",
    "    name = request.form.get('name')\n",
    "    phone = request.form.get('phone')\n",
    "    email = request.form.get('email')\n",
    "    \n",
    "    # insert information\n",
    "    result = mongo.db.member.insert_one({'name': name, 'phone': phone, 'email': email})\n",
    "    \n",
    "    # return the id\n",
    "    return str(result.inserted_id)"
   ]
  },
  {
   "cell_type": "code",
   "execution_count": 5,
   "metadata": {},
   "outputs": [],
   "source": [
    "@app.route('/members/<id>', methods = ['DELETE'])\n",
    "def remove_member(id):\n",
    "    result = 0\n",
    "    # find the member\n",
    "    member = mongo.db.member.find_one({'_id': ObjectId(id)})\n",
    "    # delete member if it exists\n",
    "    if member is not None:\n",
    "        del_result = mongo.db.member.delete_one(member)\n",
    "        result = del_result.deleted_count\n",
    "    # return deleted data numbers\n",
    "    return \"Delete %s data\" % str(result)"
   ]
  },
  {
   "cell_type": "code",
   "execution_count": 8,
   "metadata": {},
   "outputs": [
    {
     "ename": "SyntaxError",
     "evalue": "invalid syntax (<ipython-input-8-9116a94416f0>, line 12)",
     "output_type": "error",
     "traceback": [
      "\u001b[0;36m  File \u001b[0;32m\"<ipython-input-8-9116a94416f0>\"\u001b[0;36m, line \u001b[0;32m12\u001b[0m\n\u001b[0;31m    upd_result = mongo.db.member.update_one({\"_id\": ObjectId(id), new_value})\u001b[0m\n\u001b[0m                                                                           ^\u001b[0m\n\u001b[0;31mSyntaxError\u001b[0m\u001b[0;31m:\u001b[0m invalid syntax\n"
     ]
    }
   ],
   "source": [
    "@app.route('/members/<id>', methods = ['PUT'])\n",
    "def update_member(id):\n",
    "    result = 0\n",
    "    # retrieve information \n",
    "    name = request.form.get('name')\n",
    "    age = request.form.get('age')\n",
    "    phone = request.form.get('phone')\n",
    "    email = request.form.get('email')\n",
    "    # set new value\n",
    "    new_value = { \"$set\": { \"name\": name, \"phone\": phone, \"email\": email } }\n",
    "    # update database\n",
    "    upd_result = mongo.db.member.update_one({\"_id\": ObjectId(id), new_value})\n",
    "    if upd_result is not None:\n",
    "        result = upd_result.modified_count\n",
    "    # return num of updated data\n",
    "    return \"Update %s data\" % str(result)"
   ]
  },
  {
   "cell_type": "code",
   "execution_count": 9,
   "metadata": {},
   "outputs": [
    {
     "name": "stdout",
     "output_type": "stream",
     "text": [
      " * Serving Flask app \"__main__\" (lazy loading)\n",
      " * Environment: production\n",
      "   WARNING: This is a development server. Do not use it in a production deployment.\n",
      "   Use a production WSGI server instead.\n",
      " * Debug mode: off\n"
     ]
    },
    {
     "name": "stderr",
     "output_type": "stream",
     "text": [
      " * Running on http://127.0.0.1:5000/ (Press CTRL+C to quit)\n",
      "127.0.0.1 - - [11/Feb/2021 15:48:26] \"\u001b[37mGET /members HTTP/1.1\u001b[0m\" 200 -\n",
      "[2021-02-11 15:48:32,130] ERROR in app: Exception on /members [POST]\n",
      "Traceback (most recent call last):\n",
      "  File \"/Users/Chin/opt/anaconda3/lib/python3.7/site-packages/flask/app.py\", line 2446, in wsgi_app\n",
      "    response = self.full_dispatch_request()\n",
      "  File \"/Users/Chin/opt/anaconda3/lib/python3.7/site-packages/flask/app.py\", line 1951, in full_dispatch_request\n",
      "    rv = self.handle_user_exception(e)\n",
      "  File \"/Users/Chin/opt/anaconda3/lib/python3.7/site-packages/flask/app.py\", line 1820, in handle_user_exception\n",
      "    reraise(exc_type, exc_value, tb)\n",
      "  File \"/Users/Chin/opt/anaconda3/lib/python3.7/site-packages/flask/_compat.py\", line 39, in reraise\n",
      "    raise value\n",
      "  File \"/Users/Chin/opt/anaconda3/lib/python3.7/site-packages/flask/app.py\", line 1949, in full_dispatch_request\n",
      "    rv = self.dispatch_request()\n",
      "  File \"/Users/Chin/opt/anaconda3/lib/python3.7/site-packages/flask/app.py\", line 1935, in dispatch_request\n",
      "    return self.view_functions[rule.endpoint](**req.view_args)\n",
      "TypeError: add_member() missing 1 required positional argument: 'id'\n",
      "127.0.0.1 - - [11/Feb/2021 15:48:32] \"\u001b[1m\u001b[35mPOST /members HTTP/1.1\u001b[0m\" 500 -\n"
     ]
    }
   ],
   "source": [
    "if __name__ == '__main__':\n",
    "    app.run()"
   ]
  },
  {
   "cell_type": "code",
   "execution_count": null,
   "metadata": {},
   "outputs": [],
   "source": []
  }
 ],
 "metadata": {
  "kernelspec": {
   "display_name": "Python 3",
   "language": "python",
   "name": "python3"
  },
  "language_info": {
   "codemirror_mode": {
    "name": "ipython",
    "version": 3
   },
   "file_extension": ".py",
   "mimetype": "text/x-python",
   "name": "python",
   "nbconvert_exporter": "python",
   "pygments_lexer": "ipython3",
   "version": "3.7.4"
  }
 },
 "nbformat": 4,
 "nbformat_minor": 2
}
